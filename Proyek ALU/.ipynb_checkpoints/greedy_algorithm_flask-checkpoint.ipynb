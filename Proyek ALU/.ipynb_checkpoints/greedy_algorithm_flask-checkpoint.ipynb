{
 "cells": [
  {
   "cell_type": "code",
   "execution_count": 4,
   "id": "281ed0f6",
   "metadata": {},
   "outputs": [
    {
     "data": {
      "text/html": [
       "<a href='http://localhost:5000' target='_blank'>Click here to open the app</a>"
      ],
      "text/plain": [
       "<IPython.core.display.HTML object>"
      ]
     },
     "metadata": {},
     "output_type": "display_data"
    },
    {
     "name": "stdout",
     "output_type": "stream",
     "text": [
      " * Serving Flask app '__main__'\n",
      " * Debug mode: off\n"
     ]
    },
    {
     "name": "stderr",
     "output_type": "stream",
     "text": [
      "WARNING: This is a development server. Do not use it in a production deployment. Use a production WSGI server instead.\n",
      " * Running on http://127.0.0.1:5000\n",
      "Press CTRL+C to quit\n",
      "[2023-11-28 16:07:18,408] ERROR in app: Exception on / [GET]\n",
      "Traceback (most recent call last):\n",
      "  File \"C:\\Users\\sarah\\anaconda3\\Lib\\site-packages\\flask\\app.py\", line 2525, in wsgi_app\n",
      "    response = self.full_dispatch_request()\n",
      "               ^^^^^^^^^^^^^^^^^^^^^^^^^^^^\n",
      "  File \"C:\\Users\\sarah\\anaconda3\\Lib\\site-packages\\flask\\app.py\", line 1822, in full_dispatch_request\n",
      "    rv = self.handle_user_exception(e)\n",
      "         ^^^^^^^^^^^^^^^^^^^^^^^^^^^^^\n",
      "  File \"C:\\Users\\sarah\\anaconda3\\Lib\\site-packages\\flask\\app.py\", line 1820, in full_dispatch_request\n",
      "    rv = self.dispatch_request()\n",
      "         ^^^^^^^^^^^^^^^^^^^^^^^\n",
      "  File \"C:\\Users\\sarah\\anaconda3\\Lib\\site-packages\\flask\\app.py\", line 1796, in dispatch_request\n",
      "    return self.ensure_sync(self.view_functions[rule.endpoint])(**view_args)\n",
      "           ^^^^^^^^^^^^^^^^^^^^^^^^^^^^^^^^^^^^^^^^^^^^^^^^^^^^^^^^^^^^^^^^^\n",
      "  File \"C:\\Users\\sarah\\AppData\\Local\\Temp\\ipykernel_12088\\2752215380.py\", line 51, in index\n",
      "    return render_template('index.html', places=places)\n",
      "           ^^^^^^^^^^^^^^^^^^^^^^^^^^^^^^^^^^^^^^^^^^^^\n",
      "  File \"C:\\Users\\sarah\\anaconda3\\Lib\\site-packages\\flask\\templating.py\", line 147, in render_template\n",
      "    return _render(app, template, context)\n",
      "           ^^^^^^^^^^^^^^^^^^^^^^^^^^^^^^^\n",
      "  File \"C:\\Users\\sarah\\anaconda3\\Lib\\site-packages\\flask\\templating.py\", line 130, in _render\n",
      "    rv = template.render(context)\n",
      "         ^^^^^^^^^^^^^^^^^^^^^^^^\n",
      "  File \"C:\\Users\\sarah\\anaconda3\\Lib\\site-packages\\jinja2\\environment.py\", line 1301, in render\n",
      "    self.environment.handle_exception()\n",
      "  File \"C:\\Users\\sarah\\anaconda3\\Lib\\site-packages\\jinja2\\environment.py\", line 936, in handle_exception\n",
      "    raise rewrite_traceback_stack(source=source)\n",
      "  File \"C:\\Users\\sarah\\anaconda3\\Proyek ALU\\templates\\index.html\", line 14, in top-level template code\n",
      "    {% for index in range(len(places)) %}\n",
      "    ^^^^^^^^^^^^^^^^^^^^^^^^^\n",
      "  File \"C:\\Users\\sarah\\anaconda3\\Lib\\site-packages\\jinja2\\utils.py\", line 83, in from_obj\n",
      "    if hasattr(obj, \"jinja_pass_arg\"):\n",
      "       ^^^^^^^^^^^^^^^^^^^^^^^^^^^^^^\n",
      "jinja2.exceptions.UndefinedError: 'len' is undefined\n",
      "127.0.0.1 - - [28/Nov/2023 16:07:18] \"GET / HTTP/1.1\" 500 -\n"
     ]
    }
   ],
   "source": [
    "# Greedy Algorithm\n",
    "def greedy_algorithm(distance_matrix, start_node):\n",
    "    num_nodes = len(distance_matrix)\n",
    "    visited_nodes = set()\n",
    "    current_node = start_node\n",
    "    path = [current_node]\n",
    "\n",
    "    while len(visited_nodes) < num_nodes:\n",
    "        next_node = min(\n",
    "            (node for node in range(num_nodes) if node not in visited_nodes),\n",
    "            key=lambda x: distance_matrix[current_node][x]\n",
    "        )\n",
    "        visited_nodes.add(next_node)\n",
    "        path.append(next_node)\n",
    "        current_node = next_node\n",
    "\n",
    "    return path\n",
    "\n",
    "\n",
    "# Matriks jarak\n",
    "distance_matrix = [\n",
    "    [0, 1.2, 1, 1.2],\n",
    "    [1.2, 0, 0.6, 1.4],\n",
    "    [1, 0.6, 0, 1.2],\n",
    "    [1.2, 1.5, 1.2, 0]\n",
    "]\n",
    "\n",
    "# Daftar tempat\n",
    "places = [\n",
    "    \"RS HKBP Balige\",\n",
    "    \"Pelabuhan Penyebrangan Balige\",\n",
    "    \"Gereja Katolik Balige\",\n",
    "    \"Telkom Balige\"\n",
    "]\n",
    "\n",
    "# Jalur antar tempat\n",
    "routes = {\n",
    "    \"RS HKBP Balige\": {\n",
    "        \"Pelabuhan Penyebrangan Balige\": [\"Jl. Gereja\", \"Jl. Gereja -> Jl. Lintas Sumatera\", \"Jl. Raja Paindoan\"],\n",
    "        \"Gereja Katolik Balige\": [\"Jl. Gereja, Jl. Lintas Sumatera -> Jl. Patuan Nagari\", \"Jl. Gereja -> Jl. Lintas Sumatera\"],\n",
    "        \"Telkom Balige\": [\"Jl. Gereja\", \"Jl. Raja Paindoan\"]\n",
    "    },\n",
    "    \"Pelabuhan Penyebrangan Balige\": {\n",
    "        \"RS HKBP Balige\": [\"Jl. Gereja\", \"Jl. Gereja -> Jl. Lintas Sumatera\", \"Jl. Raja Paindoan\"],\n",
    "        \"Gereja Katolik Balige\": [\"Jl. Bukit Barisan -> Jl. Siliwangi -> Jl. Pdt. Leman\", \"Jl. Bukit Barisan -> Jl. Dr. T.D. Pardede -> dan Jl. Lintas Sumatera\"],\n",
    "        \"Telkom Balige\": [\"Jl. Gereja\", \"Jl. GHM. Siahaan\"]\n",
    "    },\n",
    "    \"Gereja Katolik Balige\": {\n",
    "        \"RS HKBP Balige\": [\"Jl. Gereja, Jl. Lintas Sumatera -> Jl. Patuan Nagari\", \"Jl. Gereja -> Jl. Lintas Sumatera\"],\n",
    "        \"Pelabuhan Penyebrangan Balige\": [\"Jl. Bukit Barisan -> Jl. Siliwangi -> Jl. Pdt. Leman\", \"Jl. Bukit Barisan -> Jl. Dr. T.D. Pardede -> dan Jl. Lintas Sumatera\"],\n",
    "        \"Telkom Balige\": [\"Jl. Lintas Sumatera\", \"Jl. Lintas Sumatera -> Jl. Gereja\"]\n",
    "    },\n",
    "    \"Telkom Balige\": {\n",
    "        \"RS HKBP Balige\": [\"Jl. Gereja\", \"Jl. Raja Paindoan\"],\n",
    "        \"Pelabuhan Penyebrangan Balige\": [\"Jl. Gereja\", \"Jl. GHM. Siahaan\"],\n",
    "        \"Gereja Katolik Balige\": [\"Jl. Lintas Sumatera\", \"Jl. Lintas Sumatera -> Jl. Gereja\"]\n",
    "    }\n",
    "}\n",
    "\n",
    "# Menambahkan jarak khusus ke matriks jarak (misalnya, RS HKBP Balige ke Telkom Balige)\n",
    "special_distance_RS_to_Telkom = 1.5\n",
    "special_distance_Telkom_to_RS = 1.2\n",
    "RS_index = places.index(\"RS HKBP Balige\")\n",
    "Telkom_index = places.index(\"Telkom Balige\")\n",
    "distance_matrix[RS_index][Telkom_index] = special_distance_RS_to_Telkom\n",
    "distance_matrix[Telkom_index][RS_index] = special_distance_Telkom_to_RS\n",
    "\n",
    "# Menentukan jalur awal (misalnya, RS HKBP Balige ke Pelabuhan Penyebrangan Balige)\n",
    "start_place = \"RS HKBP Balige\"\n",
    "end_place = \"Pelabuhan Penyebrangan Balige\"\n",
    "start_index = places.index(start_place)\n",
    "end_index = places.index(end_place)\n",
    "\n",
    "result_path = greedy_algorithm(distance_matrix, start_index)\n",
    "print(\"Jalur terpendek:\", result_path)\n",
    "\n",
    "# Menemukan jalur spesifik antara tempat awal dan akhir\n",
    "route_description = routes[start_place][end_place]\n",
    "print(\"Rute terpendek:\", route_description)"
   ]
  },
  {
   "cell_type": "code",
   "execution_count": null,
   "id": "03e3412d",
   "metadata": {},
   "outputs": [],
   "source": []
  }
 ],
 "metadata": {
  "kernelspec": {
   "display_name": "Python 3 (ipykernel)",
   "language": "python",
   "name": "python3"
  },
  "language_info": {
   "codemirror_mode": {
    "name": "ipython",
    "version": 3
   },
   "file_extension": ".py",
   "mimetype": "text/x-python",
   "name": "python",
   "nbconvert_exporter": "python",
   "pygments_lexer": "ipython3",
   "version": "3.11.4"
  }
 },
 "nbformat": 4,
 "nbformat_minor": 5
}
